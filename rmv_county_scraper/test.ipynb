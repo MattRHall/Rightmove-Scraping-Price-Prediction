{
 "cells": [
  {
   "cell_type": "code",
   "execution_count": 9,
   "metadata": {},
   "outputs": [],
   "source": [
    "\n",
    "        yield {\"propertyId\":propertyId,\n",
    "                \"propertySubType\":propertySubType,\n",
    "                \"propertyType\":propertyType,\n",
    "                \"retirement\": retirement,\n",
    "                \"soldSTC\": soldSTC,\n",
    "                \"preOwned\": preOwned,\n",
    "                \"latitude\": latitude,\n",
    "                \"longitude\": longitude,\n",
    "                \"beds\": beds,\n",
    "                \"bathrooms\": bathrooms,\n",
    "                \"added\": added,\n",
    "                \"price\": price,\n",
    "                \"branchId\": branchId,\n",
    "                \"brandName\": brandName,\n",
    "                \"branchName\": branchName,\n",
    "                \"companyName\": companyName,\n",
    "                \"companyTradingName\": companyTradingName,\n",
    "                \"pageType\": pageType,\n",
    "                \"closest_train\": closest_train,\n",
    "                \"garage\": garage,\n",
    "                \"garden\": garden,\n",
    "                \"parking\": parking,\n",
    "                \"pool\": pool\n",
    "                }\n"
   ]
  },
  {
   "cell_type": "code",
   "execution_count": 4,
   "metadata": {},
   "outputs": [
    {
     "name": "stderr",
     "output_type": "stream",
     "text": [
      "ERROR: Could not find a version that satisfies the requirement sqlite (from versions: none)\n",
      "ERROR: No matching distribution found for sqlite\n"
     ]
    }
   ],
   "source": [
    "!pip install sqlite"
   ]
  },
  {
   "cell_type": "code",
   "execution_count": 11,
   "metadata": {},
   "outputs": [],
   "source": [
    "import mysql.connector"
   ]
  },
  {
   "cell_type": "code",
   "execution_count": 20,
   "metadata": {},
   "outputs": [],
   "source": [
    "    mydb = mysql.connector.connect(host='localhost', user='hall_m', password='matt1337', database='rightmove')\n",
    "    mycursor = mydb.cursor(buffered=True)\n",
    "    mycursor.execute(\"SHOW TABLES\")\n",
    "    mycursor.execute(\"TRUNCATE TABLE `buckinghamshire`\")"
   ]
  },
  {
   "cell_type": "code",
   "execution_count": 25,
   "metadata": {},
   "outputs": [
    {
     "ename": "IntegrityError",
     "evalue": "1062 (23000): Duplicate entry '780' for key 'buckinghamshire.PRIMARY'",
     "output_type": "error",
     "traceback": [
      "\u001b[1;31m---------------------------------------------------------------------------\u001b[0m",
      "\u001b[1;31mIntegrityError\u001b[0m                            Traceback (most recent call last)",
      "\u001b[1;32m~\\AppData\\Local\\Temp/ipykernel_19964/4123446030.py\u001b[0m in \u001b[0;36m<module>\u001b[1;34m\u001b[0m\n\u001b[0;32m     36\u001b[0m        pageType, float(closest_train), int(garage), int(garden), int(parking), int(pool))\n\u001b[0;32m     37\u001b[0m \u001b[1;33m\u001b[0m\u001b[0m\n\u001b[1;32m---> 38\u001b[1;33m \u001b[0mmycursor\u001b[0m\u001b[1;33m.\u001b[0m\u001b[0mexecute\u001b[0m\u001b[1;33m(\u001b[0m\u001b[0msql\u001b[0m\u001b[1;33m,\u001b[0m \u001b[0mval\u001b[0m\u001b[1;33m)\u001b[0m\u001b[1;33m\u001b[0m\u001b[1;33m\u001b[0m\u001b[0m\n\u001b[0m\u001b[0;32m     39\u001b[0m \u001b[0mmydb\u001b[0m\u001b[1;33m.\u001b[0m\u001b[0mcommit\u001b[0m\u001b[1;33m(\u001b[0m\u001b[1;33m)\u001b[0m\u001b[1;33m\u001b[0m\u001b[1;33m\u001b[0m\u001b[0m\n",
      "\u001b[1;32m~\\.conda\\envs\\MYSQL\\lib\\site-packages\\mysql\\connector\\cursor.py\u001b[0m in \u001b[0;36mexecute\u001b[1;34m(self, operation, params, multi)\u001b[0m\n\u001b[0;32m    567\u001b[0m \u001b[1;33m\u001b[0m\u001b[0m\n\u001b[0;32m    568\u001b[0m         \u001b[1;32mtry\u001b[0m\u001b[1;33m:\u001b[0m\u001b[1;33m\u001b[0m\u001b[1;33m\u001b[0m\u001b[0m\n\u001b[1;32m--> 569\u001b[1;33m             \u001b[0mself\u001b[0m\u001b[1;33m.\u001b[0m\u001b[0m_handle_result\u001b[0m\u001b[1;33m(\u001b[0m\u001b[0mself\u001b[0m\u001b[1;33m.\u001b[0m\u001b[0m_connection\u001b[0m\u001b[1;33m.\u001b[0m\u001b[0mcmd_query\u001b[0m\u001b[1;33m(\u001b[0m\u001b[0mstmt\u001b[0m\u001b[1;33m)\u001b[0m\u001b[1;33m)\u001b[0m\u001b[1;33m\u001b[0m\u001b[1;33m\u001b[0m\u001b[0m\n\u001b[0m\u001b[0;32m    570\u001b[0m         \u001b[1;32mexcept\u001b[0m \u001b[0merrors\u001b[0m\u001b[1;33m.\u001b[0m\u001b[0mInterfaceError\u001b[0m\u001b[1;33m:\u001b[0m\u001b[1;33m\u001b[0m\u001b[1;33m\u001b[0m\u001b[0m\n\u001b[0;32m    571\u001b[0m             \u001b[1;32mif\u001b[0m \u001b[0mself\u001b[0m\u001b[1;33m.\u001b[0m\u001b[0m_connection\u001b[0m\u001b[1;33m.\u001b[0m\u001b[0m_have_next_result\u001b[0m\u001b[1;33m:\u001b[0m  \u001b[1;31m# pylint: disable=W0212\u001b[0m\u001b[1;33m\u001b[0m\u001b[1;33m\u001b[0m\u001b[0m\n",
      "\u001b[1;32m~\\.conda\\envs\\MYSQL\\lib\\site-packages\\mysql\\connector\\connection.py\u001b[0m in \u001b[0;36mcmd_query\u001b[1;34m(self, query, raw, buffered, raw_as_string)\u001b[0m\n\u001b[0;32m    588\u001b[0m         \u001b[1;32mif\u001b[0m \u001b[1;32mnot\u001b[0m \u001b[0misinstance\u001b[0m\u001b[1;33m(\u001b[0m\u001b[0mquery\u001b[0m\u001b[1;33m,\u001b[0m \u001b[0mbytes\u001b[0m\u001b[1;33m)\u001b[0m\u001b[1;33m:\u001b[0m\u001b[1;33m\u001b[0m\u001b[1;33m\u001b[0m\u001b[0m\n\u001b[0;32m    589\u001b[0m             \u001b[0mquery\u001b[0m \u001b[1;33m=\u001b[0m \u001b[0mquery\u001b[0m\u001b[1;33m.\u001b[0m\u001b[0mencode\u001b[0m\u001b[1;33m(\u001b[0m\u001b[1;34m'utf-8'\u001b[0m\u001b[1;33m)\u001b[0m\u001b[1;33m\u001b[0m\u001b[1;33m\u001b[0m\u001b[0m\n\u001b[1;32m--> 590\u001b[1;33m         \u001b[0mresult\u001b[0m \u001b[1;33m=\u001b[0m \u001b[0mself\u001b[0m\u001b[1;33m.\u001b[0m\u001b[0m_handle_result\u001b[0m\u001b[1;33m(\u001b[0m\u001b[0mself\u001b[0m\u001b[1;33m.\u001b[0m\u001b[0m_send_cmd\u001b[0m\u001b[1;33m(\u001b[0m\u001b[0mServerCmd\u001b[0m\u001b[1;33m.\u001b[0m\u001b[0mQUERY\u001b[0m\u001b[1;33m,\u001b[0m \u001b[0mquery\u001b[0m\u001b[1;33m)\u001b[0m\u001b[1;33m)\u001b[0m\u001b[1;33m\u001b[0m\u001b[1;33m\u001b[0m\u001b[0m\n\u001b[0m\u001b[0;32m    591\u001b[0m \u001b[1;33m\u001b[0m\u001b[0m\n\u001b[0;32m    592\u001b[0m         \u001b[1;32mif\u001b[0m \u001b[0mself\u001b[0m\u001b[1;33m.\u001b[0m\u001b[0m_have_next_result\u001b[0m\u001b[1;33m:\u001b[0m\u001b[1;33m\u001b[0m\u001b[1;33m\u001b[0m\u001b[0m\n",
      "\u001b[1;32m~\\.conda\\envs\\MYSQL\\lib\\site-packages\\mysql\\connector\\connection.py\u001b[0m in \u001b[0;36m_handle_result\u001b[1;34m(self, packet)\u001b[0m\n\u001b[0;32m    476\u001b[0m             \u001b[1;32mreturn\u001b[0m \u001b[0mself\u001b[0m\u001b[1;33m.\u001b[0m\u001b[0m_handle_eof\u001b[0m\u001b[1;33m(\u001b[0m\u001b[0mpacket\u001b[0m\u001b[1;33m)\u001b[0m\u001b[1;33m\u001b[0m\u001b[1;33m\u001b[0m\u001b[0m\n\u001b[0;32m    477\u001b[0m         \u001b[1;32melif\u001b[0m \u001b[0mpacket\u001b[0m\u001b[1;33m[\u001b[0m\u001b[1;36m4\u001b[0m\u001b[1;33m]\u001b[0m \u001b[1;33m==\u001b[0m \u001b[1;36m255\u001b[0m\u001b[1;33m:\u001b[0m\u001b[1;33m\u001b[0m\u001b[1;33m\u001b[0m\u001b[0m\n\u001b[1;32m--> 478\u001b[1;33m             \u001b[1;32mraise\u001b[0m \u001b[0merrors\u001b[0m\u001b[1;33m.\u001b[0m\u001b[0mget_exception\u001b[0m\u001b[1;33m(\u001b[0m\u001b[0mpacket\u001b[0m\u001b[1;33m)\u001b[0m\u001b[1;33m\u001b[0m\u001b[1;33m\u001b[0m\u001b[0m\n\u001b[0m\u001b[0;32m    479\u001b[0m \u001b[1;33m\u001b[0m\u001b[0m\n\u001b[0;32m    480\u001b[0m         \u001b[1;31m# We have a text result set\u001b[0m\u001b[1;33m\u001b[0m\u001b[1;33m\u001b[0m\u001b[1;33m\u001b[0m\u001b[0m\n",
      "\u001b[1;31mIntegrityError\u001b[0m: 1062 (23000): Duplicate entry '780' for key 'buckinghamshire.PRIMARY'"
     ]
    }
   ],
   "source": [
    "propertyId = 780\n",
    "propertySubType = \"Terraced\"\n",
    "propertyType = \"houses\"\n",
    "retirement = \"FALSE\"\n",
    "soldSTC = \"True\"\n",
    "preOwned = \"Resale\"\n",
    "latitude = 51.6\n",
    "longitude = -0.5\n",
    "beds = 3\n",
    "bathrooms = 2\n",
    "added = 2021\n",
    "price = \"£650,00p\"\n",
    "branchId = 79347\n",
    "brandName = \"Test\"\n",
    "branchName = \"Test\"\n",
    "companyName = \"Test\"\n",
    "companyTradingName = \"Test\"\n",
    "pageType = \"Test\"\n",
    "closest_train = 1.89595\n",
    "garage = 1\n",
    "garden = 0\n",
    "parking = 1\n",
    "pool = 0\n",
    "             \n",
    "\n",
    "sql = \"INSERT INTO `rightmove`.`buckinghamshire` \\\n",
    "     (propertyId, propertySubType, propertyType, retirement, soldSTC, \\\n",
    "        preOwned, latitude, longitude, beds, bathrooms, added, price, \\\n",
    "        branchId, brandName, branchName, companyName, companyTradingName, \\\n",
    "        pageType, closest_train, garage, garden, parking, pool) VALUES \\\n",
    "        (%s,%s,%s,%s,%s,%s,%s,%s,%s,%s,%s,%s,%s,%s,%s,%s,%s,%s,%s,%s,%s,%s,%s)\"\n",
    "\n",
    "val = (int(propertyId), propertySubType, propertyType, retirement, soldSTC, preOwned,\n",
    "       float(latitude), float(longitude), int(beds), int(bathrooms), int(added), \n",
    "       price, int(branchId), brandName, branchName, companyName, companyTradingName, \n",
    "       pageType, float(closest_train), int(garage), int(garden), int(parking), int(pool))\n",
    "        \n",
    "mycursor.execute(sql, val)\n",
    "mydb.commit()"
   ]
  },
  {
   "cell_type": "code",
   "execution_count": 2,
   "metadata": {},
   "outputs": [
    {
     "ename": "ModuleNotFoundError",
     "evalue": "No module named 'shadow_useragent'",
     "output_type": "error",
     "traceback": [
      "\u001b[1;31m---------------------------------------------------------------------------\u001b[0m",
      "\u001b[1;31mModuleNotFoundError\u001b[0m                       Traceback (most recent call last)",
      "\u001b[1;32m~\\AppData\\Local\\Temp/ipykernel_20008/401960553.py\u001b[0m in \u001b[0;36m<module>\u001b[1;34m\u001b[0m\n\u001b[1;32m----> 1\u001b[1;33m \u001b[1;32mfrom\u001b[0m \u001b[0mshadow_useragent\u001b[0m \u001b[1;32mimport\u001b[0m \u001b[0mShadowUserAgent\u001b[0m\u001b[1;33m\u001b[0m\u001b[1;33m\u001b[0m\u001b[0m\n\u001b[0m",
      "\u001b[1;31mModuleNotFoundError\u001b[0m: No module named 'shadow_useragent'"
     ]
    }
   ],
   "source": [
    "from shadow_useragent import ShadowUserAgent"
   ]
  },
  {
   "cell_type": "code",
   "execution_count": 3,
   "metadata": {},
   "outputs": [
    {
     "name": "stderr",
     "output_type": "stream",
     "text": [
      "ERROR: Could not find a version that satisfies the requirement ShadowUserAgent (from versions: none)\n",
      "ERROR: No matching distribution found for ShadowUserAgent\n"
     ]
    }
   ],
   "source": [
    "!pip install ShadowUserAgent"
   ]
  },
  {
   "cell_type": "code",
   "execution_count": 16,
   "metadata": {},
   "outputs": [],
   "source": [
    " mycursor.execute(\"SHOW TABLES\")"
   ]
  },
  {
   "cell_type": "code",
   "execution_count": 17,
   "metadata": {},
   "outputs": [
    {
     "name": "stdout",
     "output_type": "stream",
     "text": [
      "('buckinghamshire',)\n"
     ]
    }
   ],
   "source": [
    "for x in mycursor:\n",
    "    print(x)"
   ]
  },
  {
   "cell_type": "code",
   "execution_count": null,
   "metadata": {},
   "outputs": [],
   "source": []
  },
  {
   "cell_type": "code",
   "execution_count": null,
   "metadata": {},
   "outputs": [],
   "source": []
  },
  {
   "cell_type": "code",
   "execution_count": null,
   "metadata": {},
   "outputs": [],
   "source": []
  },
  {
   "cell_type": "code",
   "execution_count": null,
   "metadata": {},
   "outputs": [],
   "source": []
  },
  {
   "cell_type": "code",
   "execution_count": null,
   "metadata": {},
   "outputs": [],
   "source": []
  },
  {
   "cell_type": "code",
   "execution_count": null,
   "metadata": {},
   "outputs": [],
   "source": []
  },
  {
   "cell_type": "code",
   "execution_count": 10,
   "metadata": {},
   "outputs": [],
   "source": [
    "x= \"hello \\\n",
    "    my name\""
   ]
  },
  {
   "cell_type": "code",
   "execution_count": 7,
   "metadata": {},
   "outputs": [
    {
     "name": "stdout",
     "output_type": "stream",
     "text": [
      "Requirement already satisfied: twisted in c:\\users\\matth\\.conda\\envs\\mysql\\lib\\site-packages (21.2.0)\n",
      "Requirement already satisfied: Automat>=0.8.0 in c:\\users\\matth\\.conda\\envs\\mysql\\lib\\site-packages (from twisted) (20.2.0)\n",
      "Requirement already satisfied: zope.interface>=4.4.2 in c:\\users\\matth\\.conda\\envs\\mysql\\lib\\site-packages (from twisted) (5.4.0)\n",
      "Requirement already satisfied: incremental>=16.10.1 in c:\\users\\matth\\.conda\\envs\\mysql\\lib\\site-packages (from twisted) (17.5.0)\n",
      "Requirement already satisfied: attrs>=19.2.0 in c:\\users\\matth\\.conda\\envs\\mysql\\lib\\site-packages (from twisted) (21.2.0)\n",
      "Requirement already satisfied: twisted-iocpsupport~=1.0.0 in c:\\users\\matth\\.conda\\envs\\mysql\\lib\\site-packages (from twisted) (1.0.1)\n",
      "Requirement already satisfied: hyperlink>=17.1.1 in c:\\users\\matth\\.conda\\envs\\mysql\\lib\\site-packages (from twisted) (21.0.0)\n",
      "Requirement already satisfied: constantly>=15.1 in c:\\users\\matth\\.conda\\envs\\mysql\\lib\\site-packages (from twisted) (15.1.0)\n",
      "Requirement already satisfied: six in c:\\users\\matth\\.conda\\envs\\mysql\\lib\\site-packages (from Automat>=0.8.0->twisted) (1.16.0)\n",
      "Requirement already satisfied: idna>=2.5 in c:\\users\\matth\\.conda\\envs\\mysql\\lib\\site-packages (from hyperlink>=17.1.1->twisted) (3.2)\n",
      "Requirement already satisfied: setuptools in c:\\users\\matth\\.conda\\envs\\mysql\\lib\\site-packages (from zope.interface>=4.4.2->twisted) (58.0.4)\n"
     ]
    }
   ],
   "source": [
    "!pip install twisted"
   ]
  },
  {
   "cell_type": "code",
   "execution_count": null,
   "metadata": {},
   "outputs": [],
   "source": []
  }
 ],
 "metadata": {
  "interpreter": {
   "hash": "338e38b54112f5e1703073ca6d3005cf625bd11e5f66b67b1c08b5df0e5fbaa6"
  },
  "kernelspec": {
   "display_name": "Python 3.7.11 64-bit ('MYSQL': conda)",
   "name": "python3"
  },
  "language_info": {
   "codemirror_mode": {
    "name": "ipython",
    "version": 3
   },
   "file_extension": ".py",
   "mimetype": "text/x-python",
   "name": "python",
   "nbconvert_exporter": "python",
   "pygments_lexer": "ipython3",
   "version": "3.7.11"
  },
  "orig_nbformat": 4
 },
 "nbformat": 4,
 "nbformat_minor": 2
}
